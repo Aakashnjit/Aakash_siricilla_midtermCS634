{
 "cells": [
  {
   "cell_type": "code",
   "execution_count": 19,
   "id": "ae60acde-da1f-4ae5-81d2-69b53ebdf6fe",
   "metadata": {},
   "outputs": [
    {
     "name": "stdout",
     "output_type": "stream",
     "text": [
      "Please select one out of 6 databases\n"
     ]
    },
    {
     "name": "stdin",
     "output_type": "stream",
     "text": [
      "Enter 1 for Amazon\n",
      "Enter 2 for BestBuy\n",
      "Enter 3 for kmart\n",
      "Enter 4 for Nike\n",
      "Enter 5 for Generic\n",
      "Enter 6 for Custom.\n",
      " 6\n"
     ]
    },
    {
     "name": "stdout",
     "output_type": "stream",
     "text": [
      "This is a database of 20 transactions. Enter any value of support and confidence between 10 to 100%\n"
     ]
    },
    {
     "name": "stdin",
     "output_type": "stream",
     "text": [
      "Enter the support in percent:  50\n",
      "Enter the confidence in percent:  60\n"
     ]
    },
    {
     "name": "stdout",
     "output_type": "stream",
     "text": [
      "Minimum support in quantity is 10\n",
      "Minimum confidence is 0.6\n",
      "\n",
      "Association Rules:\n",
      "('A',) => {'C'} - Confidence: 0.6\n",
      "('C',) => {'A'} - Confidence: 1.0\n",
      "('A',) => {'E'} - Confidence: 0.75\n",
      "('E',) => {'A'} - Confidence: 1.0\n",
      "\n",
      "Execution Time: 0.0 seconds\n"
     ]
    }
   ],
   "source": [
    "import pandas as pd\n",
    "import numpy as np\n",
    "import itertools\n",
    "import time\n",
    "import ast\n",
    "\n",
    "# Function to generate frequent itemsets using brute force\n",
    "def brute_force_frequent_itemsets(transactions, min_support):\n",
    "    # Generate all possible itemsets\n",
    "    items = set(item for transaction in transactions for item in transaction)\n",
    "    itemsets = list(itertools.chain.from_iterable(itertools.combinations(items, k) for k in range(1, len(items) + 1)))\n",
    "\n",
    "    frequent_itemsets = []\n",
    "    for itemset in itemsets:\n",
    "        # Count occurrences of itemset in transactions\n",
    "        count = sum(1 for transaction in transactions if set(itemset).issubset(transaction))\n",
    "        if count >= min_support:\n",
    "            frequent_itemsets.append((itemset, count))\n",
    "\n",
    "    return frequent_itemsets\n",
    "\n",
    "# Function to generate association rules from frequent itemsets\n",
    "def generate_association_rules(frequent_itemsets, min_confidence):\n",
    "    association_rules = []\n",
    "    for itemset, support in frequent_itemsets:\n",
    "        if len(itemset) > 1:\n",
    "            for i in range(1, len(itemset)):\n",
    "                for subset in itertools.combinations(itemset, i):\n",
    "                    remaining = set(itemset) - set(subset)\n",
    "                    confidence = support / next((c for (s, c) in frequent_itemsets if s == subset), 1)\n",
    "                    if confidence >= min_confidence:\n",
    "                        association_rules.append((subset, remaining, confidence))\n",
    "    return association_rules\n",
    "\n",
    "# Function to execute the brute force method\n",
    "def execute_brute_force(transactions, min_support, min_confidence):\n",
    "    start_time = time.time()\n",
    "    frequent_itemsets = brute_force_frequent_itemsets(transactions, min_support)\n",
    "    association_rules = generate_association_rules(frequent_itemsets, min_confidence)\n",
    "    execution_time = time.time() - start_time\n",
    "    return frequent_itemsets, association_rules, execution_time\n",
    "\n",
    "# Load datasets and define transactions variable\n",
    "print('Please select one out of 6 databases')\n",
    "which_db = input('Enter 1 for Amazon\\nEnter 2 for BestBuy\\nEnter 3 for kmart\\nEnter 4 for Nike\\nEnter 5 for Generic\\nEnter 6 for Custom.\\n')\n",
    "\n",
    "if which_db == '1':\n",
    "    data = pd.read_excel('Amazon.xlsx')\n",
    "elif which_db == '2':\n",
    "    data = pd.read_excel('BestBuy.xlsx')\n",
    "elif which_db == '3':\n",
    "    data = pd.read_excel('kmart.xlsx')\n",
    "elif which_db == '4':\n",
    "    data = pd.read_excel('Nike.xlsx')\n",
    "elif which_db == '5':\n",
    "    data = pd.read_excel('Generic.xlsx')\n",
    "elif which_db == '6':\n",
    "    data = pd.read_excel('Custom.xlsx')\n",
    "else:\n",
    "    print('Accepted values are only 1 to 6. Default database Amazon will be used.')\n",
    "    data = pd.read_excel('Amazon.xlsx')\n",
    "\n",
    "transactions = [list(ast.literal_eval(row)) for row in data['Transaction']]\n",
    "\n",
    "# Define values for min_support and min_confidence\n",
    "print('This is a database of 20 transactions. Enter any value of support and confidence between 10 to 100%')\n",
    "support_in_percent = int(input('Enter the support in percent: '))\n",
    "confidence_in_percent = int(input('Enter the confidence in percent: '))\n",
    "\n",
    "Min_support = int(np.floor((support_in_percent / 100) * len(transactions)))\n",
    "Min_confidence = confidence_in_percent / 100\n",
    "\n",
    "print('Minimum support in quantity is', Min_support)\n",
    "print('Minimum confidence is', Min_confidence)\n",
    "\n",
    "# Execute brute force method\n",
    "frequent_itemsets, association_rules, execution_time = execute_brute_force(transactions, Min_support, Min_confidence)\n",
    "\n",
    "# Display results\n",
    "#print('\\nFrequent Itemsets:')\n",
    "#for itemset, support in frequent_itemsets:\n",
    "    #print(itemset, support)\n",
    "\n",
    "print('\\nAssociation Rules:')\n",
    "for antecedent, consequent, confidence in association_rules:\n",
    "    print(antecedent, '=>', consequent, '- Confidence:', confidence)\n",
    "\n",
    "print('\\nExecution Time:', execution_time, 'seconds')\n"
   ]
  },
  {
   "cell_type": "code",
   "execution_count": null,
   "id": "f04002a3-fb3e-41bc-9737-0b9c5f6cd51a",
   "metadata": {},
   "outputs": [],
   "source": []
  }
 ],
 "metadata": {
  "kernelspec": {
   "display_name": "Python 3 (ipykernel)",
   "language": "python",
   "name": "python3"
  },
  "language_info": {
   "codemirror_mode": {
    "name": "ipython",
    "version": 3
   },
   "file_extension": ".py",
   "mimetype": "text/x-python",
   "name": "python",
   "nbconvert_exporter": "python",
   "pygments_lexer": "ipython3",
   "version": "3.11.8"
  }
 },
 "nbformat": 4,
 "nbformat_minor": 5
}
